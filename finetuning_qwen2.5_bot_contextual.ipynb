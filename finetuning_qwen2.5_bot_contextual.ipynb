{
 "cells": [
  {
   "cell_type": "code",
   "execution_count": 1,
   "id": "faf9dc9e",
   "metadata": {},
   "outputs": [
    {
     "name": "stdout",
     "output_type": "stream",
     "text": [
      "🦥 Unsloth: Will patch your computer to enable 2x faster free finetuning.\n"
     ]
    },
    {
     "name": "stderr",
     "output_type": "stream",
     "text": [
      "/home/anthony/miniconda3/envs/llm/lib/python3.11/site-packages/tqdm/auto.py:21: TqdmWarning: IProgress not found. Please update jupyter and ipywidgets. See https://ipywidgets.readthedocs.io/en/stable/user_install.html\n",
      "  from .autonotebook import tqdm as notebook_tqdm\n"
     ]
    },
    {
     "name": "stdout",
     "output_type": "stream",
     "text": [
      "🦥 Unsloth Zoo will now patch everything to make training faster!\n",
      "==((====))==  Unsloth 2025.6.2: Fast Qwen2 patching. Transformers: 4.52.4.\n",
      "   \\\\   /|    NVIDIA RTX 4500 Ada Generation. Num GPUs = 1. Max memory: 23.994 GB. Platform: Linux.\n",
      "O^O/ \\_/ \\    Torch: 2.7.0+cu126. CUDA: 8.9. CUDA Toolkit: 12.6. Triton: 3.3.0\n",
      "\\        /    Bfloat16 = TRUE. FA [Xformers = 0.0.30. FA2 = False]\n",
      " \"-____-\"     Free license: http://github.com/unslothai/unsloth\n",
      "Unsloth: Fast downloading is enabled - ignore downloading bars which are red colored!\n",
      "./models/Qwen2.5-0.5B does not have a padding token! Will use pad_token = <|vision_pad|>.\n"
     ]
    },
    {
     "name": "stderr",
     "output_type": "stream",
     "text": [
      "Unsloth 2025.6.2 patched 24 layers with 24 QKV layers, 24 O layers and 24 MLP layers.\n"
     ]
    }
   ],
   "source": [
    "from unsloth import FastLanguageModel, is_bf16_supported\n",
    "import torch\n",
    "\n",
    "max_seq_length = 4096\n",
    "lora_rank = 64\n",
    "dtype = None\n",
    "\n",
    "model, tokenizer = FastLanguageModel.from_pretrained(\n",
    "    model_name = \"./models/Qwen2.5-0.5B\",\n",
    "    max_seq_length = max_seq_length,\n",
    "    load_in_4bit = True,\n",
    "    dtype = dtype\n",
    "    #fast_inference = True,\n",
    "    #max_lora_rank = lora_rank,\n",
    "    #gpu_memory_utilization = 0.5\n",
    ")\n",
    "\n",
    "model = FastLanguageModel.get_peft_model(\n",
    "    model,\n",
    "    r = lora_rank,\n",
    "    target_modules=[\n",
    "        \"q_proj\", \"k_proj\", \"v_proj\", \"o_proj\",\n",
    "        \"gate_proj\", \"up_proj\", \"down_proj\",\n",
    "    ],\n",
    "    lora_alpha = lora_rank,\n",
    "    lora_dropout = 0,\n",
    "    bias = \"none\",\n",
    "    use_gradient_checkpointing = \"unsloth\",\n",
    "    random_state = 42,\n",
    "    use_rslora = False,\n",
    "    loftq_config = None    \n",
    ")\n"
   ]
  },
  {
   "cell_type": "code",
   "execution_count": null,
   "id": "809ababc",
   "metadata": {},
   "outputs": [
    {
     "data": {
      "text/plain": [
       "[{'role': 'user',\n",
       "  'content': '¿Qué pasos debe seguir un estudiante para convalidar sus prácticas pre profesionales?',\n",
       "  'context': '\\n\\nConvalidar Practicas Pre Profesionales\\n¿Cuál es el proceso que debe seguir un estudiante para convalidar sus practicas pre pre profesionales?\\nLos estudiantes que deseen realizar convalidar sus practicas pre pre profesionales deben ponerse en contacto con el departamento de su Escuela Profesional correspondiente para obtener más información. A continuación se detallan las direcciones de correo electrónico según la escuela profesional:\\nFísica, Química o Ciencia de la Computación: escuelas_fc1@uni.edu.pe\\nMatemáticas o Ingeniería Física: escuelas_fc2@uni.edu.pe\\n\\nTraslado Interno\\n            TRASLADO INTERNO\\n        (del Reglamento de Matrícula Aprobado R.R. N° 0570 del 29.03.22)\\n\\nArt. 16° De la convalidación de Asignaturas y su aplicación\\n\\nLa Convalidación de Asignatura es el acto académico y administrativo mediante el cual la UNI a través de la Escuela Profesional correspondiente, aplica un sistema de equivalencia y reconoce como válidas las asignaturas de contenido similar y número de créditos igual o similar al de otro Plan de Estudios con respecto a uno vigente en la Escuela Profesional. Para que proceda, los respectivos sílabos de las asignaturas a convalidar deberán coincidir al menos en un 75% de su contenido y de horas dictadas. Las asignaturas para convalidar deben tener igual número de créditos o diferir como máximo en uno (01). Por excepción, la convalidación de una asignatura con mayor profundidad en el contenido quedará a la consideración del secretario académico de la facultad.  \\nEl estudiante tiene derecho a solicitar la convalidación de asignaturas en los siguientes casos: \\n\\na. Traslado  Interno: Es un procedimiento mediante el cual el ingresante de una Escuela Profesional de la UNI pasa a otra especialidad de su Facultad o de otra, cumpliendo los requisitos académicos y administrativos. \\n\\nRequisitos Y Procedimiento De Matricula Para Estudiantes Regulares\\n¿Cuales son los requisitos y el proceso de matrícula regular al ciclo académico para alumnos regulares de pregrado en la Facultad de Ciencias de la Universidad Nacional de Ingeniería?\\nLos estudiantes regulares de pregrado en la Facultad de Ciencias de la UNI deben cumplir con siguientes requisitos y procedimiento para realizar su matrícula al ciclo académico.\\n\\nRequisitos para la matricula:\\n1. Haber efectuado el pago del autoseguro estudiantil mediante la plataforma intranet-alumnos.\\n\\n2. No tener adeudos pendientes con la Facultad, ya sea por concepto económico, préstamos de libros u otros materiales de enseñanza en general de la biblioteca.\\n\\n3. En caso de estar en riesgo académico, haber completado la tutoría obligatoria previa a la matrícula.\\n\\n4. Si el estudiante ha dejado de estudiar, reservado matrícula o solicitado retiro total en el último período, deberá tramitar previamente su reincorporación a través de la plataforma intranet-alumnos.\\n\\nProcedimiento para la matrícula regular:\\n1. Generar la orden de pago del autoseguro estudiantil a través de la plataforma INTRALU. Para ello, haz clic en \"Trámites\" para acceder al módulo de trámites y pagos. Luego, selecciona el trámite correspondiente, haz clic en \"Nuevo\" y sigue las instrucciones para completar el proceso.\\n2. Realizar el pago del autoseguro dentro del plazo establecido en el calendario de actividades académicas, acercándose a un sucursal del BCP o a traves de la aplicación movil del banco. No se requiere la entrega del voucher de pago del autoseguro ni otros documentos.\\n3. En la fecha y turno asignado, el estudiante llevará a cabo a su matrícula de forma virtual, es decir, realizará la inscripción de sus cursos a través de la plataforma intranet-alumnos. Accederá al módulo de Matrícula UNI dentro de esta plataforma, seleccionará las asignaturas y horarios deseados, y finalizará confirmando la matrícula en todas las asignaturas elegidas en el sistema.\\n\\nLos turnos de matrícula se asignan por grupos según el promedio ponderado de los dos últimos ciclos académicos, en orden de mérito. Los estudiantes pueden consultarlos en el módulo de Matrícula UNI de la intranet-alumnos.\\n\\nDeber Tutoría Obligatorio Antes De La Matricula O Reincorporación Para Alumnos En Riego Académico\\n¿Qué deben hacer los estudiantes que adeuden la tutoría obligatoria previa a la matricula para alumnos en riesgo academico?\\nLos alumnos en riesgo académico deben pasar por un proceso de tutoría obligatoria previa a su matrícula. Para ello, pueden comunicarse al correo tutoría.fc@uni.edu.pe o acercarse personalmente a la oficina para obtener más información. Este requisito es obligatorio para la habilitación de su matrícula.\\n\\nProceso De Matricula\\nDe los Requisitos de la Matrícula\\nArt. 46° La enseñanza en el antegrado es gratuita para la primera carrera profesional. Son requisitos para la matrícula, los siguientes:\\n\\ta. Cumplir con los requisitos académicos establecidos en el presente reglamento .\\n\\tb. Realizar el pago por concepto de Autoseguro Médico. En caso de inconvenientes, presentar por correo o de forma física el recibo de pago.\\n\\tc. En caso de la matricula regular, reincorporación o traslado interno, no presentar adeudos con su Facultad (económico, libros, enseres, o material de enseñanza en general)\\n\\td. Aquellos estudiantes que no puedan cumplir con las deudas del tipo económico podrán solicitar, con diez (1O) días útiles de anticipación, facilidades a la Comisión de Matrícula y comprometerse a una forma de pago a plazos, evitando que sea una restricción de su matrícula. Esta ventaja se perderá si no hubiese cumplido con similar compromiso en su anterior matrícula.\\n\\te. En el caso de los traslados internos, externos, graduados, titulados, convenios internacionales, además de los incisos anteriores, deben presentar la Constancia o la Resolución Directora! de convalidación de las asignaturas. \\n\\tf. Los estudiantes que realizan su matrícula en forma rezagada deberán efectuar el pago correspondiente establecido en las normas de la UNI. \\n\\tg. Los estudiantes que hayan dejado de estudiar, o reservado matrícula o hayan solicitado su retiro total en algún periodo anterior, deberán previamente haber solicitado su reincorporación ante su Decano y su trámite lo realizará vía la plataforma DIRCE-UNI.\\n\\t\\t Si requiriesen cambio previo de Plan de Estudios y convalidaciones correspondientes, éstas ya deben haberse tramitado. En estos casos , el trámite de reincorporación debe hacerse con no menos de una semana adicional de anticipación.\\n\\th. El pago del carné universitario no es requisito para la matrícula.\\n\\ti. No será necesario que los estudiantes hayan participado en el último proceso electoral para ser matriculados, sin que esto signifique exonerarlo de la multa correspondiente. \\n\\tj. Otros de acuerdo con lo establecido en las normas de la UNI.\\n\\nReincorporación Después De Una Una Reserva De Matricula\\n¿Qué procedimiento debe seguir un estudiante que desea reincorporarse después de haber reservado su matricula por uno o mas periodos académicos?\\nEl estudiante que desee realizar su reincorporación deberá gestionarla antes de las fechas de matrícula dentro del plazo establecido en el calendario de actividades académicas. Para ello, debera realizar los siguientes pasos.\\n    1. Acceder a la Portal INTRALU con su código UNI y clave correspondiente. Luego, seleccionar la opción \"Trámites\" para acceder al módulo de pagos.\\n    2. En el módulo de pagos, seleccionar el trámite correspondiente y genera una nueva orden de pago siguiendo las indicaciones en la plataforma. \\n    3. Una vez generada la orden de pago, el alumno debe realizar el pago en una sucursal del BCP o utilizando la aplicación móvil del BCP. \\n    4. Después de completar el pago, el estudiante debe enviar su solicitud de reincorporación a través de la Plataforma de Intranet-Alumnos dentro de los plazos establecidos (consultar el calendario académico). Para ello accede a la plataforma, elige \"Reincorporación de Estudiantes\" en \"Mis Trámites\", completa el formulario con la solicitud y el comprobante de pago, y envía la solicitud.\\n\\nAl completar el envió de la solicitud por la plataforma se visualizara la solicitud enviada, la fecha de envio y estado actual de la solicitud.\\nUna vez aprobada y realizada la reincorporación, el estudiante podrá realizar su matrícula de manera regular.\\nEscuelas Profesionales de la Facultad de Ciencias de la UNI\\n\\nInformación de Contacto:\\nSegún la escuela profesional (carrera universitaria), el correo de contacto es el siguiente:\\n\\nPara Física, Química o Ciencia de la Computación: escuelas_fc1@uni.edu.pe\\nPara Matemáticas o Ingeniería Física: escuelas_fc2@uni.edu.pe\\n\\nHorario de Atención de Escuelas Profesionales: De Lunes a Viernes de 8:30 a.m a 4:00 p.m\\n\\nÁrea de Estadística y Registros Académicos de la Facultad de Ciencias de la UNI\\n\\nInformación de Contacto de la oficina de estadística (AERA)\\nE-mail: estadistica_fc@uni.edu.pe\\n\\nHorario de Atención de la oficina de estadística (AERA):\\nDe Lunes a Viernes de 8:00 a.m. a 4:00 p.m.',\n",
       "  'recovered_texts': [{'text': 'Convalidar Practicas Pre Profesionales\\n¿Cuál es el proceso que debe seguir un estudiante para convalidar sus practicas pre pre profesionales?\\nLos estudiantes que deseen realizar convalidar sus practicas pre pre profesionales deben ponerse en contacto con el departamento de su Escuela Profesional correspondiente para obtener más información. A continuación se detallan las direcciones de correo electrónico según la escuela profesional:\\nFísica, Química o Ciencia de la Computación: escuelas_fc1@uni.edu.pe\\nMatemáticas o Ingeniería Física: escuelas_fc2@uni.edu.pe',\n",
       "    'relatedness': 0.8017023205757141},\n",
       "   {'text': 'Traslado Interno\\n            TRASLADO INTERNO\\n        (del Reglamento de Matrícula Aprobado R.R. N° 0570 del 29.03.22)\\n\\nArt. 16° De la convalidación de Asignaturas y su aplicación\\n\\nLa Convalidación de Asignatura es el acto académico y administrativo mediante el cual la UNI a través de la Escuela Profesional correspondiente, aplica un sistema de equivalencia y reconoce como válidas las asignaturas de contenido similar y número de créditos igual o similar al de otro Plan de Estudios con respecto a uno vigente en la Escuela Profesional. Para que proceda, los respectivos sílabos de las asignaturas a convalidar deberán coincidir al menos en un 75% de su contenido y de horas dictadas. Las asignaturas para convalidar deben tener igual número de créditos o diferir como máximo en uno (01). Por excepción, la convalidación de una asignatura con mayor profundidad en el contenido quedará a la consideración del secretario académico de la facultad.  \\nEl estudiante tiene derecho a solicitar la convalidación de asignaturas en los siguientes casos: \\n\\na. Traslado  Interno: Es un procedimiento mediante el cual el ingresante de una Escuela Profesional de la UNI pasa a otra especialidad de su Facultad o de otra, cumpliendo los requisitos académicos y administrativos. ',\n",
       "    'relatedness': 0.49559658765792847},\n",
       "   {'text': 'Requisitos Y Procedimiento De Matricula Para Estudiantes Regulares\\n¿Cuales son los requisitos y el proceso de matrícula regular al ciclo académico para alumnos regulares de pregrado en la Facultad de Ciencias de la Universidad Nacional de Ingeniería?\\nLos estudiantes regulares de pregrado en la Facultad de Ciencias de la UNI deben cumplir con siguientes requisitos y procedimiento para realizar su matrícula al ciclo académico.\\n\\nRequisitos para la matricula:\\n1. Haber efectuado el pago del autoseguro estudiantil mediante la plataforma intranet-alumnos.\\n\\n2. No tener adeudos pendientes con la Facultad, ya sea por concepto económico, préstamos de libros u otros materiales de enseñanza en general de la biblioteca.\\n\\n3. En caso de estar en riesgo académico, haber completado la tutoría obligatoria previa a la matrícula.\\n\\n4. Si el estudiante ha dejado de estudiar, reservado matrícula o solicitado retiro total en el último período, deberá tramitar previamente su reincorporación a través de la plataforma intranet-alumnos.\\n\\nProcedimiento para la matrícula regular:\\n1. Generar la orden de pago del autoseguro estudiantil a través de la plataforma INTRALU. Para ello, haz clic en \"Trámites\" para acceder al módulo de trámites y pagos. Luego, selecciona el trámite correspondiente, haz clic en \"Nuevo\" y sigue las instrucciones para completar el proceso.\\n2. Realizar el pago del autoseguro dentro del plazo establecido en el calendario de actividades académicas, acercándose a un sucursal del BCP o a traves de la aplicación movil del banco. No se requiere la entrega del voucher de pago del autoseguro ni otros documentos.\\n3. En la fecha y turno asignado, el estudiante llevará a cabo a su matrícula de forma virtual, es decir, realizará la inscripción de sus cursos a través de la plataforma intranet-alumnos. Accederá al módulo de Matrícula UNI dentro de esta plataforma, seleccionará las asignaturas y horarios deseados, y finalizará confirmando la matrícula en todas las asignaturas elegidas en el sistema.\\n\\nLos turnos de matrícula se asignan por grupos según el promedio ponderado de los dos últimos ciclos académicos, en orden de mérito. Los estudiantes pueden consultarlos en el módulo de Matrícula UNI de la intranet-alumnos.',\n",
       "    'relatedness': 0.48554083704948425},\n",
       "   {'text': 'Deber Tutoría Obligatorio Antes De La Matricula O Reincorporación Para Alumnos En Riego Académico\\n¿Qué deben hacer los estudiantes que adeuden la tutoría obligatoria previa a la matricula para alumnos en riesgo academico?\\nLos alumnos en riesgo académico deben pasar por un proceso de tutoría obligatoria previa a su matrícula. Para ello, pueden comunicarse al correo tutoría.fc@uni.edu.pe o acercarse personalmente a la oficina para obtener más información. Este requisito es obligatorio para la habilitación de su matrícula.',\n",
       "    'relatedness': 0.4746362268924713},\n",
       "   {'text': 'Proceso De Matricula\\nDe los Requisitos de la Matrícula\\nArt. 46° La enseñanza en el antegrado es gratuita para la primera carrera profesional. Son requisitos para la matrícula, los siguientes:\\n\\ta. Cumplir con los requisitos académicos establecidos en el presente reglamento .\\n\\tb. Realizar el pago por concepto de Autoseguro Médico. En caso de inconvenientes, presentar por correo o de forma física el recibo de pago.\\n\\tc. En caso de la matricula regular, reincorporación o traslado interno, no presentar adeudos con su Facultad (económico, libros, enseres, o material de enseñanza en general)\\n\\td. Aquellos estudiantes que no puedan cumplir con las deudas del tipo económico podrán solicitar, con diez (1O) días útiles de anticipación, facilidades a la Comisión de Matrícula y comprometerse a una forma de pago a plazos, evitando que sea una restricción de su matrícula. Esta ventaja se perderá si no hubiese cumplido con similar compromiso en su anterior matrícula.\\n\\te. En el caso de los traslados internos, externos, graduados, titulados, convenios internacionales, además de los incisos anteriores, deben presentar la Constancia o la Resolución Directora! de convalidación de las asignaturas. \\n\\tf. Los estudiantes que realizan su matrícula en forma rezagada deberán efectuar el pago correspondiente establecido en las normas de la UNI. \\n\\tg. Los estudiantes que hayan dejado de estudiar, o reservado matrícula o hayan solicitado su retiro total en algún periodo anterior, deberán previamente haber solicitado su reincorporación ante su Decano y su trámite lo realizará vía la plataforma DIRCE-UNI.\\n\\t\\t Si requiriesen cambio previo de Plan de Estudios y convalidaciones correspondientes, éstas ya deben haberse tramitado. En estos casos , el trámite de reincorporación debe hacerse con no menos de una semana adicional de anticipación.\\n\\th. El pago del carné universitario no es requisito para la matrícula.\\n\\ti. No será necesario que los estudiantes hayan participado en el último proceso electoral para ser matriculados, sin que esto signifique exonerarlo de la multa correspondiente. \\n\\tj. Otros de acuerdo con lo establecido en las normas de la UNI.',\n",
       "    'relatedness': 0.4579775869846344},\n",
       "   {'text': 'Reincorporación Después De Una Una Reserva De Matricula\\n¿Qué procedimiento debe seguir un estudiante que desea reincorporarse después de haber reservado su matricula por uno o mas periodos académicos?\\nEl estudiante que desee realizar su reincorporación deberá gestionarla antes de las fechas de matrícula dentro del plazo establecido en el calendario de actividades académicas. Para ello, debera realizar los siguientes pasos.\\n    1. Acceder a la Portal INTRALU con su código UNI y clave correspondiente. Luego, seleccionar la opción \"Trámites\" para acceder al módulo de pagos.\\n    2. En el módulo de pagos, seleccionar el trámite correspondiente y genera una nueva orden de pago siguiendo las indicaciones en la plataforma. \\n    3. Una vez generada la orden de pago, el alumno debe realizar el pago en una sucursal del BCP o utilizando la aplicación móvil del BCP. \\n    4. Después de completar el pago, el estudiante debe enviar su solicitud de reincorporación a través de la Plataforma de Intranet-Alumnos dentro de los plazos establecidos (consultar el calendario académico). Para ello accede a la plataforma, elige \"Reincorporación de Estudiantes\" en \"Mis Trámites\", completa el formulario con la solicitud y el comprobante de pago, y envía la solicitud.\\n\\nAl completar el envió de la solicitud por la plataforma se visualizara la solicitud enviada, la fecha de envio y estado actual de la solicitud.\\nUna vez aprobada y realizada la reincorporación, el estudiante podrá realizar su matrícula de manera regular.',\n",
       "    'relatedness': 0.44949981570243835},\n",
       "   {'text': 'Normas Matricula\\nArt. 44° El estudiante que requiera cursar asignatura(s) electiva(s) en otra Escuela Profesional, planificará con no menos de un semestre sus expectativas: centro de estudios, asignaturas de su interés, calendarios y requisitos correspondientes. El pedido podrá ser hasta por doce (12) créditos.\\n        Si fuese en una de las especialidades de la UNI, deberá solicitar, con no menos de sesenta (60) días de anticipación a la semana de matrícula, la autorización a su Consejo de Facultad, indicando las razones que justifiquen cada una, para complementar la formación en su propia especialidad. Es atendido por su Director de Escuela y con su aprobación se elevará al Decano en no más de 5 días útiles. El Decano recabará la aprobación de su Consejo de Facultad, dentro de los diez (10) días útiles siguientes.\\n        Con la autorización de su Consejo de Facultad y la argumentación, presentará solicitud al Decano de la Facultad de destino, quien dispondrá de 15 días útiles para aprobarlo en su Consejo de Facultad.\\n        La autorización de la Facultad de destino deberá tenerla antes de la matrícula a solicitar. El registro de notas será automático, como de Asignatura Extracurricular. Si la solicitud es para una universidad de la Alianza Estratégica, la anticipación será la requerida en dicho Centro. Las asignaturas que apruebe serán registradas cuando presente el respectivo Certificado de estudios.\\n\\nArt. 45° El estudiante que desee acogerse a alguna Beca Internacional o cursar asignaturas por Convenio, fuera de Lima o del país; tramitará con la anticipación prevista en el respectivo convenio, la aceptación previa de su Director de Escuela y la autorización del Consejo de Facultad. Con dicha autorización, solicitará también Licencia de Estudios por cada semestre que no se matricule; hasta un máximo de tres (3) años; para evitar Retiro Definitivo.\\n        Concluido cada semestre de estudios, solicitará las convalidaciones pertinentes de las asignaturas únicamente del cuarto ciclo al noveno ciclo del plan de estudios, adjuntando la respectiva documentación. A su retorno, deberá reincorporarse para continuar con la matrícula de sus asignaturas pendientes. Las notas serán convalidas según su equivalencia a la escala vigesimal por la Escuela Profesional y comunicadas a DIRCE.',\n",
       "    'relatedness': 0.44085345268249515},\n",
       "   {'text': 'Traslado Interno\\nArt. 17° El plazo para que las Escuelas Profesionales efectúen los procesos de asignación de Plan de Estudios y convalidación será de hasta cinco (05) días útiles computados desde: \\n \\n    • En el caso de Traslado Interno, desde la aprobación del Consejo de Facultad o autorización del Decano (con cargo a dar cuenta al siguiente Consejo), previos al Examen de Admisión.  \\n    • En el caso de Reincorporación, desde la recepción del expediente.  \\n    • En el caso de Traslados Externos, Segunda Profesión y por convenio nacional o internacional, la Dirección de Admisión (DIAD), bajo responsabilidad, deberá entregar a las Facultades; con copia a DIRCE (para la generación de códigos), los expedientes de estos ingresantes, a más tardar en cinco (05) días hábiles de concluido el examen de admisión respectivo. La facultad dispondrá de cinco (05) días útiles más, para las convalidaciones; para lo cual disponen de los respectivos formatos en la plataforma SIGA-DIRCE. \\n\\nLa DIRCE deberá procesar las convalidaciones realizadas por las Facultades en un plazo máximo de cinco (05) días útiles computados desde su recepción.  \\n\\nPara los Traslados Internos del segundo semestre de cada año, no se consideran las asignaturas cursadas en el semestre inmediato anterior, pues la presentación del trámite es antes del cierre del ciclo. Si las hubiese, el estudiante solicitará su convalidación posterior a la Verificación de Matrícula y las matrículas adicionales, si fuera el caso. En segundo semestre, no se admite rezago en los Traslados.  \\n\\nArt.  53°  Los  ingresantes  a  la  UNI  por  traslado  interno  o  externo,  graduados,  titulados,  y  por convenios, solicitarán a la Escuela Profesional correspondiente su primera matrícula, la misma que se realizará a través de la Oficina de Estadística de la Facultad, en coordinación con la DIRCE-UNI.',\n",
       "    'relatedness': 0.42702827453613285},\n",
       "   {'text': 'Condiciones Para Matricula En Asignaturas\\nCondiciones para la Matricula en Asignaturas\\n\\nArt. 49° El estudiante se matriculará sólo en las asignaturas que corresponden a su Plan de Estudios de su especialidad. Quien haya solicitado matrícula en asignaturas de otra especialidad de la UNI, primero hará su Matricula ordinaria y reservará créditos para esas adicionales, las que se registrarán mediante oficio ante la DIRCE.\\n\\nArt. 50° La matrícula en una asignatura procede:\\n\\t\\ta. Si el prerrequisito de la asignatura ha sido aprobado.\\n\\t\\tb. Si se ha solicitado la matrícula en las asignaturas pendientes de menor ciclo y en riesgo académico.\\n\\t\\tc. Si no existen cruces entre los horarios de las asignaturas-sección, y de las sesiones si corresponde, registradas en la matrícula.\\n\\t\\td. Si no existen cruces entre los horarios de prácticas o laboratorios de dos asignatura-sección. De manera excepcional, se aceptan los siguientes cruces de dos asignaturas:\\n\\t\\t\\t-\\tHasta cuatro (04) horas de cruces de horarios de solo teoría con teoría de dos asignatura-sección, siendo las horas no necesariamente consecutivas.\\n\\t\\t\\t-\\tHasta dos (02) horas de cruces de horario de teoría con horarios de práctica o laboratorios, no necesariamente consecutivas.\\n\\t\\t\\t-\\tHasta dos (02) horas de cruces de horarios de teoría con horarios de práctica o laboratorios y hasta dos (02) horas de cruces de horarios de solo teoría con teoría, no necesariamente consecutivos.\\n\\nArt. 54° El estudiante que haya aprobado los cinco (05) primeros ciclos de su Plan de Estudios o un número de créditos equivalente a estos, podrá matricularse en las asignaturas electivas en las que cumplan con el prerrequisito.\\n\\t\\tPuede considerarse como prerrequisito una determinada cantidad de créditos aprobados acumulados.\\n\\nArt. 55° El estudiante que haya aprobado el número total de créditos exigidos en el Plan de Estudios de su especialidad, será considerado automáticamente en la condición de \"Currículo completo\" y por ello, eximido de los efectos del Reglamento de Matricula. \\n\\nArt. 56° El estudiante considerado \"Currículo Completo\" o que haya tramitado su Constancia de Egresado, podrá inscribirse como estudiante libre en cualquier asignatura, abonando los derechos correspondientes al de estudiante libre. A la aprobación de dichas asignaturas se le podrá otorgar un certificado de capacitación expedido por la Facultad.\\n',\n",
       "    'relatedness': 0.4195254385471344},\n",
       "   {'text': 'Examen Regularizacion\\nDel Registro de Notas \\n \\nArt. 67. El director de la Escuela Profesional enviará los resultados del examen de regularización a la Oficina de Estadística de la Facultad para que efectúe su registro en el ciclo académico vigente y realice el trámite hacia DIRCE, con el visto bueno del Decano. \\n \\nDel número de evaluaciones permitidas \\n \\nArt. 68. (RR  1075-18) El estudiante que resultase desaprobado en la primera evaluación de regularización y optase por una segunda evaluación de regularización, lo hará dentro de los dos (02) meses contados a partir de la fecha en que rindió la primera evaluación de regularización, Si esta segunda evaluación ocurriera en el mismo período académico, el registro de dicha nota será efectuado en el período siguiente. \\n \\nArt. 69. (RR 1075-18) En caso de haber desaprobado la segunda evaluación, o no se presentase a esta evaluación, el estudiante deberá matricularse en el curso (o los cursos) que correspondan en el período inmediato, sin derecho a otra evaluación de regularización.\\n\\n---------------------------------------------------------------------------------------------------------------------------------------------------------------------------------------------------------------------------------------------------------------------------------\\n\\nEl procedimiento para solicitar la Evaluación de Regularización es el siguiente: \\n \\n1. El estudiante debe acercarse a la oficina de su Escuela Profesional respectiva para solicitar una orden de pago por concepto de examen de regularización. \\n \\n2. El estudiante presentará en mesa de partes de la facultad, una solicitud dirigida al Decano, adjuntará el avance curricular visado por el director de la Escuela Profesional correspondiente y el recibo de pago para su derivación al director de la Escuela Profesional correspondiente.',\n",
       "    'relatedness': 0.40442100763320926}],\n",
       "  'contains_questions': True,\n",
       "  'reformulated_question': '¿Qué pasos debe seguir un estudiante para convalidar sus prácticas pre profesionales?',\n",
       "  'num_history_tokens': None,\n",
       "  'num_prompt_tokens': None,\n",
       "  'num_output_tokens': None},\n",
       " {'role': 'assistant',\n",
       "  'content': 'Para convalidar sus prácticas pre profesionales, un estudiante debe seguir estos pasos:\\n\\n1. Contactar al departamento de su Escuela Profesional correspondiente para obtener información específica sobre el proceso de convalidación.\\n   \\n   - Para Física, Química o Ciencia de la Computación: escuelas_fc1@uni.edu.pe\\n   - Para Matemáticas o Ingeniería Física: escuelas_fc2@uni.edu.pe\\n\\nEs importante seguir las indicaciones que le proporcionen en su escuela para asegurar que el proceso se realice correctamente. Si necesitas más información, no dudes en preguntar.',\n",
       "  'context': None,\n",
       "  'recovered_texts': None,\n",
       "  'contains_questions': None,\n",
       "  'reformulated_question': None,\n",
       "  'num_history_tokens': 305,\n",
       "  'num_prompt_tokens': 2485,\n",
       "  'num_output_tokens': 140},\n",
       " {'role': 'user',\n",
       "  'content': '¿Y qué tipo de documentos o requisitos suelen pedir para la convalidación? ¿Hay algún formato específico que deba seguir?',\n",
       "  'context': '\\n\\nConvalidar Practicas Pre Profesionales\\n¿Cuál es el proceso que debe seguir un estudiante para convalidar sus practicas pre pre profesionales?\\nLos estudiantes que deseen realizar convalidar sus practicas pre pre profesionales deben ponerse en contacto con el departamento de su Escuela Profesional correspondiente para obtener más información. A continuación se detallan las direcciones de correo electrónico según la escuela profesional:\\nFísica, Química o Ciencia de la Computación: escuelas_fc1@uni.edu.pe\\nMatemáticas o Ingeniería Física: escuelas_fc2@uni.edu.pe\\n\\nTraslado Interno\\n            TRASLADO INTERNO\\n        (del Reglamento de Matrícula Aprobado R.R. N° 0570 del 29.03.22)\\n\\nArt. 16° De la convalidación de Asignaturas y su aplicación\\n\\nLa Convalidación de Asignatura es el acto académico y administrativo mediante el cual la UNI a través de la Escuela Profesional correspondiente, aplica un sistema de equivalencia y reconoce como válidas las asignaturas de contenido similar y número de créditos igual o similar al de otro Plan de Estudios con respecto a uno vigente en la Escuela Profesional. Para que proceda, los respectivos sílabos de las asignaturas a convalidar deberán coincidir al menos en un 75% de su contenido y de horas dictadas. Las asignaturas para convalidar deben tener igual número de créditos o diferir como máximo en uno (01). Por excepción, la convalidación de una asignatura con mayor profundidad en el contenido quedará a la consideración del secretario académico de la facultad.  \\nEl estudiante tiene derecho a solicitar la convalidación de asignaturas en los siguientes casos: \\n\\na. Traslado  Interno: Es un procedimiento mediante el cual el ingresante de una Escuela Profesional de la UNI pasa a otra especialidad de su Facultad o de otra, cumpliendo los requisitos académicos y administrativos. \\n\\nRequisitos Y Procedimiento De Matricula Para Estudiantes Regulares\\n¿Cuales son los requisitos y el proceso de matrícula regular al ciclo académico para alumnos regulares de pregrado en la Facultad de Ciencias de la Universidad Nacional de Ingeniería?\\nLos estudiantes regulares de pregrado en la Facultad de Ciencias de la UNI deben cumplir con siguientes requisitos y procedimiento para realizar su matrícula al ciclo académico.\\n\\nRequisitos para la matricula:\\n1. Haber efectuado el pago del autoseguro estudiantil mediante la plataforma intranet-alumnos.\\n\\n2. No tener adeudos pendientes con la Facultad, ya sea por concepto económico, préstamos de libros u otros materiales de enseñanza en general de la biblioteca.\\n\\n3. En caso de estar en riesgo académico, haber completado la tutoría obligatoria previa a la matrícula.\\n\\n4. Si el estudiante ha dejado de estudiar, reservado matrícula o solicitado retiro total en el último período, deberá tramitar previamente su reincorporación a través de la plataforma intranet-alumnos.\\n\\nProcedimiento para la matrícula regular:\\n1. Generar la orden de pago del autoseguro estudiantil a través de la plataforma INTRALU. Para ello, haz clic en \"Trámites\" para acceder al módulo de trámites y pagos. Luego, selecciona el trámite correspondiente, haz clic en \"Nuevo\" y sigue las instrucciones para completar el proceso.\\n2. Realizar el pago del autoseguro dentro del plazo establecido en el calendario de actividades académicas, acercándose a un sucursal del BCP o a traves de la aplicación movil del banco. No se requiere la entrega del voucher de pago del autoseguro ni otros documentos.\\n3. En la fecha y turno asignado, el estudiante llevará a cabo a su matrícula de forma virtual, es decir, realizará la inscripción de sus cursos a través de la plataforma intranet-alumnos. Accederá al módulo de Matrícula UNI dentro de esta plataforma, seleccionará las asignaturas y horarios deseados, y finalizará confirmando la matrícula en todas las asignaturas elegidas en el sistema.\\n\\nLos turnos de matrícula se asignan por grupos según el promedio ponderado de los dos últimos ciclos académicos, en orden de mérito. Los estudiantes pueden consultarlos en el módulo de Matrícula UNI de la intranet-alumnos.\\n\\nProceso De Matricula\\nDe los Requisitos de la Matrícula\\nArt. 46° La enseñanza en el antegrado es gratuita para la primera carrera profesional. Son requisitos para la matrícula, los siguientes:\\n\\ta. Cumplir con los requisitos académicos establecidos en el presente reglamento .\\n\\tb. Realizar el pago por concepto de Autoseguro Médico. En caso de inconvenientes, presentar por correo o de forma física el recibo de pago.\\n\\tc. En caso de la matricula regular, reincorporación o traslado interno, no presentar adeudos con su Facultad (económico, libros, enseres, o material de enseñanza en general)\\n\\td. Aquellos estudiantes que no puedan cumplir con las deudas del tipo económico podrán solicitar, con diez (1O) días útiles de anticipación, facilidades a la Comisión de Matrícula y comprometerse a una forma de pago a plazos, evitando que sea una restricción de su matrícula. Esta ventaja se perderá si no hubiese cumplido con similar compromiso en su anterior matrícula.\\n\\te. En el caso de los traslados internos, externos, graduados, titulados, convenios internacionales, además de los incisos anteriores, deben presentar la Constancia o la Resolución Directora! de convalidación de las asignaturas. \\n\\tf. Los estudiantes que realizan su matrícula en forma rezagada deberán efectuar el pago correspondiente establecido en las normas de la UNI. \\n\\tg. Los estudiantes que hayan dejado de estudiar, o reservado matrícula o hayan solicitado su retiro total en algún periodo anterior, deberán previamente haber solicitado su reincorporación ante su Decano y su trámite lo realizará vía la plataforma DIRCE-UNI.\\n\\t\\t Si requiriesen cambio previo de Plan de Estudios y convalidaciones correspondientes, éstas ya deben haberse tramitado. En estos casos , el trámite de reincorporación debe hacerse con no menos de una semana adicional de anticipación.\\n\\th. El pago del carné universitario no es requisito para la matrícula.\\n\\ti. No será necesario que los estudiantes hayan participado en el último proceso electoral para ser matriculados, sin que esto signifique exonerarlo de la multa correspondiente. \\n\\tj. Otros de acuerdo con lo establecido en las normas de la UNI.\\n\\nRequisitos Y Procedimiento Para Matricula Solo Para Ingresantes\\n¿Cuales son los requisitos y el proceso de matrícula para nuevos ingresantes de pregrado en la Facultad de Ciencias de la Universidad Nacional de Ingeniería?\\nLos nuevos estudiantes de pregrado ingresantes a la Facultad de Ciencias deberán seguir el siguiente proceso, por única vez, para completar su primera matricula (primera matricula al primer ciclo):\\n    1. Recabar su constancia de ingreso. Luego de gestionar la emisión de su constancia de ingreso, la Dirección de Admisión (DIAD) de la UNI enviará a su correo la constancia de ingreso.\\n    2. Actualización de datos en intranet. DIRCE hará llegar a su correo su clave para acceder a la plataforma de intranet-alumnos y completar sus datos.\\n    3. Registrar los datos en la Facultad de Ciencias. La oficina de estadística de la facultad enviará al correo del ingresante la ficha de datos. El llenado es carácter obligatorio.\\n    4. Efectuar el pago por autoseguro (S/. 55.00) en el plazo establecido en el cronograma. Para ello, primero generar una orden de pago a traves de la plataforma intranet-alumnos.\\n    5. Realizar la entrega de los siguientes documentos a la oficina de estadística según el cronograma de actividades de matrícula para ingresantes publicado dentro de la sección \\'MATRÍCULA Y PROCEDIMIENTOS\\' en la página web de la Facultad de Ciencias.\\n        - Constancia de Ingreso\\n        - Ficha de datos\\n        - Constancia de Evaluación Socioeconómica\\n        - Certificado Médico expedido por el Centro Medico UNI\\n        - Comprobante de pago de Autoseguro Estudiantil\\n    6. La oficina de estadística ejecutará la matrícula (inscripción de cursos) de los ingresantes según el cronograma de actividades, únicamente para aquellos que hayan cumplido con la entrega de la entrega de los documentos requeridos en de las fechas establecidas en el cronograma.\\n    7. Los ingresantes matriculados recibirán un correo con el horario de sus cursos y también podrán visualizar sus cursos y horarios en la plataforma intranet-alumnos.\\nEscuelas Profesionales de la Facultad de Ciencias de la UNI\\n\\nInformación de Contacto:\\nSegún la escuela profesional (carrera universitaria), el correo de contacto es el siguiente:\\n\\nPara Física, Química o Ciencia de la Computación: escuelas_fc1@uni.edu.pe\\nPara Matemáticas o Ingeniería Física: escuelas_fc2@uni.edu.pe\\n\\nHorario de Atención de Escuelas Profesionales: De Lunes a Viernes de 8:30 a.m a 4:00 p.m\\n\\nÁrea de Estadística y Registros Académicos de la Facultad de Ciencias de la UNI\\n\\nInformación de Contacto de la oficina de estadística (AERA)\\nE-mail: estadistica_fc@uni.edu.pe\\n\\nHorario de Atención de la oficina de estadística (AERA):\\nDe Lunes a Viernes de 8:00 a.m. a 4:00 p.m.',\n",
       "  'recovered_texts': [{'text': 'Convalidar Practicas Pre Profesionales\\n¿Cuál es el proceso que debe seguir un estudiante para convalidar sus practicas pre pre profesionales?\\nLos estudiantes que deseen realizar convalidar sus practicas pre pre profesionales deben ponerse en contacto con el departamento de su Escuela Profesional correspondiente para obtener más información. A continuación se detallan las direcciones de correo electrónico según la escuela profesional:\\nFísica, Química o Ciencia de la Computación: escuelas_fc1@uni.edu.pe\\nMatemáticas o Ingeniería Física: escuelas_fc2@uni.edu.pe',\n",
       "    'relatedness': 0.696884274482727},\n",
       "   {'text': 'Traslado Interno\\n            TRASLADO INTERNO\\n        (del Reglamento de Matrícula Aprobado R.R. N° 0570 del 29.03.22)\\n\\nArt. 16° De la convalidación de Asignaturas y su aplicación\\n\\nLa Convalidación de Asignatura es el acto académico y administrativo mediante el cual la UNI a través de la Escuela Profesional correspondiente, aplica un sistema de equivalencia y reconoce como válidas las asignaturas de contenido similar y número de créditos igual o similar al de otro Plan de Estudios con respecto a uno vigente en la Escuela Profesional. Para que proceda, los respectivos sílabos de las asignaturas a convalidar deberán coincidir al menos en un 75% de su contenido y de horas dictadas. Las asignaturas para convalidar deben tener igual número de créditos o diferir como máximo en uno (01). Por excepción, la convalidación de una asignatura con mayor profundidad en el contenido quedará a la consideración del secretario académico de la facultad.  \\nEl estudiante tiene derecho a solicitar la convalidación de asignaturas en los siguientes casos: \\n\\na. Traslado  Interno: Es un procedimiento mediante el cual el ingresante de una Escuela Profesional de la UNI pasa a otra especialidad de su Facultad o de otra, cumpliendo los requisitos académicos y administrativos. ',\n",
       "    'relatedness': 0.4575482726097107},\n",
       "   {'text': 'Requisitos Y Procedimiento De Matricula Para Estudiantes Regulares\\n¿Cuales son los requisitos y el proceso de matrícula regular al ciclo académico para alumnos regulares de pregrado en la Facultad de Ciencias de la Universidad Nacional de Ingeniería?\\nLos estudiantes regulares de pregrado en la Facultad de Ciencias de la UNI deben cumplir con siguientes requisitos y procedimiento para realizar su matrícula al ciclo académico.\\n\\nRequisitos para la matricula:\\n1. Haber efectuado el pago del autoseguro estudiantil mediante la plataforma intranet-alumnos.\\n\\n2. No tener adeudos pendientes con la Facultad, ya sea por concepto económico, préstamos de libros u otros materiales de enseñanza en general de la biblioteca.\\n\\n3. En caso de estar en riesgo académico, haber completado la tutoría obligatoria previa a la matrícula.\\n\\n4. Si el estudiante ha dejado de estudiar, reservado matrícula o solicitado retiro total en el último período, deberá tramitar previamente su reincorporación a través de la plataforma intranet-alumnos.\\n\\nProcedimiento para la matrícula regular:\\n1. Generar la orden de pago del autoseguro estudiantil a través de la plataforma INTRALU. Para ello, haz clic en \"Trámites\" para acceder al módulo de trámites y pagos. Luego, selecciona el trámite correspondiente, haz clic en \"Nuevo\" y sigue las instrucciones para completar el proceso.\\n2. Realizar el pago del autoseguro dentro del plazo establecido en el calendario de actividades académicas, acercándose a un sucursal del BCP o a traves de la aplicación movil del banco. No se requiere la entrega del voucher de pago del autoseguro ni otros documentos.\\n3. En la fecha y turno asignado, el estudiante llevará a cabo a su matrícula de forma virtual, es decir, realizará la inscripción de sus cursos a través de la plataforma intranet-alumnos. Accederá al módulo de Matrícula UNI dentro de esta plataforma, seleccionará las asignaturas y horarios deseados, y finalizará confirmando la matrícula en todas las asignaturas elegidas en el sistema.\\n\\nLos turnos de matrícula se asignan por grupos según el promedio ponderado de los dos últimos ciclos académicos, en orden de mérito. Los estudiantes pueden consultarlos en el módulo de Matrícula UNI de la intranet-alumnos.',\n",
       "    'relatedness': 0.444659948348999},\n",
       "   {'text': 'Proceso De Matricula\\nDe los Requisitos de la Matrícula\\nArt. 46° La enseñanza en el antegrado es gratuita para la primera carrera profesional. Son requisitos para la matrícula, los siguientes:\\n\\ta. Cumplir con los requisitos académicos establecidos en el presente reglamento .\\n\\tb. Realizar el pago por concepto de Autoseguro Médico. En caso de inconvenientes, presentar por correo o de forma física el recibo de pago.\\n\\tc. En caso de la matricula regular, reincorporación o traslado interno, no presentar adeudos con su Facultad (económico, libros, enseres, o material de enseñanza en general)\\n\\td. Aquellos estudiantes que no puedan cumplir con las deudas del tipo económico podrán solicitar, con diez (1O) días útiles de anticipación, facilidades a la Comisión de Matrícula y comprometerse a una forma de pago a plazos, evitando que sea una restricción de su matrícula. Esta ventaja se perderá si no hubiese cumplido con similar compromiso en su anterior matrícula.\\n\\te. En el caso de los traslados internos, externos, graduados, titulados, convenios internacionales, además de los incisos anteriores, deben presentar la Constancia o la Resolución Directora! de convalidación de las asignaturas. \\n\\tf. Los estudiantes que realizan su matrícula en forma rezagada deberán efectuar el pago correspondiente establecido en las normas de la UNI. \\n\\tg. Los estudiantes que hayan dejado de estudiar, o reservado matrícula o hayan solicitado su retiro total en algún periodo anterior, deberán previamente haber solicitado su reincorporación ante su Decano y su trámite lo realizará vía la plataforma DIRCE-UNI.\\n\\t\\t Si requiriesen cambio previo de Plan de Estudios y convalidaciones correspondientes, éstas ya deben haberse tramitado. En estos casos , el trámite de reincorporación debe hacerse con no menos de una semana adicional de anticipación.\\n\\th. El pago del carné universitario no es requisito para la matrícula.\\n\\ti. No será necesario que los estudiantes hayan participado en el último proceso electoral para ser matriculados, sin que esto signifique exonerarlo de la multa correspondiente. \\n\\tj. Otros de acuerdo con lo establecido en las normas de la UNI.',\n",
       "    'relatedness': 0.44040651619434357},\n",
       "   {'text': \"Requisitos Y Procedimiento Para Matricula Solo Para Ingresantes\\n¿Cuales son los requisitos y el proceso de matrícula para nuevos ingresantes de pregrado en la Facultad de Ciencias de la Universidad Nacional de Ingeniería?\\nLos nuevos estudiantes de pregrado ingresantes a la Facultad de Ciencias deberán seguir el siguiente proceso, por única vez, para completar su primera matricula (primera matricula al primer ciclo):\\n    1. Recabar su constancia de ingreso. Luego de gestionar la emisión de su constancia de ingreso, la Dirección de Admisión (DIAD) de la UNI enviará a su correo la constancia de ingreso.\\n    2. Actualización de datos en intranet. DIRCE hará llegar a su correo su clave para acceder a la plataforma de intranet-alumnos y completar sus datos.\\n    3. Registrar los datos en la Facultad de Ciencias. La oficina de estadística de la facultad enviará al correo del ingresante la ficha de datos. El llenado es carácter obligatorio.\\n    4. Efectuar el pago por autoseguro (S/. 55.00) en el plazo establecido en el cronograma. Para ello, primero generar una orden de pago a traves de la plataforma intranet-alumnos.\\n    5. Realizar la entrega de los siguientes documentos a la oficina de estadística según el cronograma de actividades de matrícula para ingresantes publicado dentro de la sección 'MATRÍCULA Y PROCEDIMIENTOS' en la página web de la Facultad de Ciencias.\\n        - Constancia de Ingreso\\n        - Ficha de datos\\n        - Constancia de Evaluación Socioeconómica\\n        - Certificado Médico expedido por el Centro Medico UNI\\n        - Comprobante de pago de Autoseguro Estudiantil\\n    6. La oficina de estadística ejecutará la matrícula (inscripción de cursos) de los ingresantes según el cronograma de actividades, únicamente para aquellos que hayan cumplido con la entrega de la entrega de los documentos requeridos en de las fechas establecidas en el cronograma.\\n    7. Los ingresantes matriculados recibirán un correo con el horario de sus cursos y también podrán visualizar sus cursos y horarios en la plataforma intranet-alumnos.\",\n",
       "    'relatedness': 0.41900235414505005},\n",
       "   {'text': 'Procedimiento Para Solicitar Una Constancia De Matricula En La Facultad De Ciencias De La Uni\\n¿Qué procedimiento debe seguir un estudiante para solicitar una constancia de Matricula en ingles o en español?\\nPara solicitar una constancia de matrícula en inglés o en español, el estudiante deber seguir los siguientes pasos:\\n\\n1. Enviar un correo a estadistica_fc@uni.edu.pe solicitando una orden de pago para la CONSTANCIA DE MATRÍCULA. En el mensaje, deberá incluir sus datos personales: número de DNI, apellidos, nombres, correo institucional y/o alternativo.\\n\\n2. La oficina de estadística (AERA) le enviará la orden de pago por el monto correspondiente al correo electrónico del estudiante.\\n\\n3. Realize el pago en alguna sucursal del BCP o a través aplicación movil del banco. En la app selecciona \"Pagar servicios\", elige la Universidad Nacional de Ingeniería, luego la opción de pago para estudiantes, e ingresa su número de DNI. La app mostrará la orden de pago con el monto exacto para realizar el pago.\\n\\n4. Luego, deberá enviar la solicitud correspondiente a mesa de partes de la facultad de ciencias al correo mesadepartes_fc@uni.edu.pe. Es importante que se asegure de indicar en la solicitud si desea la CONSTANCIA DE MATRÍCULA en inglés o español. El modelo para esta solicitud está disponible dentro de la sección [\"MATRÍCULA Y PROCEDIMIENTOS\" en la página web de la Facultad de Ciencias](https://fc.uni.edu.pe/estadistica/documentos/).\\n\\n5. Por último, la constancia se enviará al correo institucional del estudiante.',\n",
       "    'relatedness': 0.4182693362236023},\n",
       "   {'text': 'Normas Matricula\\nArt. 44° El estudiante que requiera cursar asignatura(s) electiva(s) en otra Escuela Profesional, planificará con no menos de un semestre sus expectativas: centro de estudios, asignaturas de su interés, calendarios y requisitos correspondientes. El pedido podrá ser hasta por doce (12) créditos.\\n        Si fuese en una de las especialidades de la UNI, deberá solicitar, con no menos de sesenta (60) días de anticipación a la semana de matrícula, la autorización a su Consejo de Facultad, indicando las razones que justifiquen cada una, para complementar la formación en su propia especialidad. Es atendido por su Director de Escuela y con su aprobación se elevará al Decano en no más de 5 días útiles. El Decano recabará la aprobación de su Consejo de Facultad, dentro de los diez (10) días útiles siguientes.\\n        Con la autorización de su Consejo de Facultad y la argumentación, presentará solicitud al Decano de la Facultad de destino, quien dispondrá de 15 días útiles para aprobarlo en su Consejo de Facultad.\\n        La autorización de la Facultad de destino deberá tenerla antes de la matrícula a solicitar. El registro de notas será automático, como de Asignatura Extracurricular. Si la solicitud es para una universidad de la Alianza Estratégica, la anticipación será la requerida en dicho Centro. Las asignaturas que apruebe serán registradas cuando presente el respectivo Certificado de estudios.\\n\\nArt. 45° El estudiante que desee acogerse a alguna Beca Internacional o cursar asignaturas por Convenio, fuera de Lima o del país; tramitará con la anticipación prevista en el respectivo convenio, la aceptación previa de su Director de Escuela y la autorización del Consejo de Facultad. Con dicha autorización, solicitará también Licencia de Estudios por cada semestre que no se matricule; hasta un máximo de tres (3) años; para evitar Retiro Definitivo.\\n        Concluido cada semestre de estudios, solicitará las convalidaciones pertinentes de las asignaturas únicamente del cuarto ciclo al noveno ciclo del plan de estudios, adjuntando la respectiva documentación. A su retorno, deberá reincorporarse para continuar con la matrícula de sus asignaturas pendientes. Las notas serán convalidas según su equivalencia a la escala vigesimal por la Escuela Profesional y comunicadas a DIRCE.',\n",
       "    'relatedness': 0.4126275211572647},\n",
       "   {'text': 'Condiciones Para Matricula En Asignaturas\\nCondiciones para la Matricula en Asignaturas\\n\\nArt. 49° El estudiante se matriculará sólo en las asignaturas que corresponden a su Plan de Estudios de su especialidad. Quien haya solicitado matrícula en asignaturas de otra especialidad de la UNI, primero hará su Matricula ordinaria y reservará créditos para esas adicionales, las que se registrarán mediante oficio ante la DIRCE.\\n\\nArt. 50° La matrícula en una asignatura procede:\\n\\t\\ta. Si el prerrequisito de la asignatura ha sido aprobado.\\n\\t\\tb. Si se ha solicitado la matrícula en las asignaturas pendientes de menor ciclo y en riesgo académico.\\n\\t\\tc. Si no existen cruces entre los horarios de las asignaturas-sección, y de las sesiones si corresponde, registradas en la matrícula.\\n\\t\\td. Si no existen cruces entre los horarios de prácticas o laboratorios de dos asignatura-sección. De manera excepcional, se aceptan los siguientes cruces de dos asignaturas:\\n\\t\\t\\t-\\tHasta cuatro (04) horas de cruces de horarios de solo teoría con teoría de dos asignatura-sección, siendo las horas no necesariamente consecutivas.\\n\\t\\t\\t-\\tHasta dos (02) horas de cruces de horario de teoría con horarios de práctica o laboratorios, no necesariamente consecutivas.\\n\\t\\t\\t-\\tHasta dos (02) horas de cruces de horarios de teoría con horarios de práctica o laboratorios y hasta dos (02) horas de cruces de horarios de solo teoría con teoría, no necesariamente consecutivos.\\n\\nArt. 54° El estudiante que haya aprobado los cinco (05) primeros ciclos de su Plan de Estudios o un número de créditos equivalente a estos, podrá matricularse en las asignaturas electivas en las que cumplan con el prerrequisito.\\n\\t\\tPuede considerarse como prerrequisito una determinada cantidad de créditos aprobados acumulados.\\n\\nArt. 55° El estudiante que haya aprobado el número total de créditos exigidos en el Plan de Estudios de su especialidad, será considerado automáticamente en la condición de \"Currículo completo\" y por ello, eximido de los efectos del Reglamento de Matricula. \\n\\nArt. 56° El estudiante considerado \"Currículo Completo\" o que haya tramitado su Constancia de Egresado, podrá inscribirse como estudiante libre en cualquier asignatura, abonando los derechos correspondientes al de estudiante libre. A la aprobación de dichas asignaturas se le podrá otorgar un certificado de capacitación expedido por la Facultad.\\n',\n",
       "    'relatedness': 0.41233988106250763},\n",
       "   {'text': 'Traslado Interno\\nArt. 17° El plazo para que las Escuelas Profesionales efectúen los procesos de asignación de Plan de Estudios y convalidación será de hasta cinco (05) días útiles computados desde: \\n \\n    • En el caso de Traslado Interno, desde la aprobación del Consejo de Facultad o autorización del Decano (con cargo a dar cuenta al siguiente Consejo), previos al Examen de Admisión.  \\n    • En el caso de Reincorporación, desde la recepción del expediente.  \\n    • En el caso de Traslados Externos, Segunda Profesión y por convenio nacional o internacional, la Dirección de Admisión (DIAD), bajo responsabilidad, deberá entregar a las Facultades; con copia a DIRCE (para la generación de códigos), los expedientes de estos ingresantes, a más tardar en cinco (05) días hábiles de concluido el examen de admisión respectivo. La facultad dispondrá de cinco (05) días útiles más, para las convalidaciones; para lo cual disponen de los respectivos formatos en la plataforma SIGA-DIRCE. \\n\\nLa DIRCE deberá procesar las convalidaciones realizadas por las Facultades en un plazo máximo de cinco (05) días útiles computados desde su recepción.  \\n\\nPara los Traslados Internos del segundo semestre de cada año, no se consideran las asignaturas cursadas en el semestre inmediato anterior, pues la presentación del trámite es antes del cierre del ciclo. Si las hubiese, el estudiante solicitará su convalidación posterior a la Verificación de Matrícula y las matrículas adicionales, si fuera el caso. En segundo semestre, no se admite rezago en los Traslados.  \\n\\nArt.  53°  Los  ingresantes  a  la  UNI  por  traslado  interno  o  externo,  graduados,  titulados,  y  por convenios, solicitarán a la Escuela Profesional correspondiente su primera matrícula, la misma que se realizará a través de la Oficina de Estadística de la Facultad, en coordinación con la DIRCE-UNI.',\n",
       "    'relatedness': 0.40475285053253174},\n",
       "   {'text': 'Constancia Academica Favorable\\nCONSTANCIA ACADÉMICA FAVORABLE con firma digital\\n\\nLa constancia académica favorable es expedida a los estudiantes regulares que desean postular al beneficio del servicio de Residencia Estudiantil de la Universidad Nacional de Ingeniería por lo que no tiene ningún costo.\\n\\nEs un documento oficial que da constancia de los créditos aprobados en la primera matrícula y en el último periodo cursado por el estudiante, contiene el promedio ponderado acumulado obtenido al momento de generar el documento y según el rango de calificación especifica la escala literal, además muestra los créditos matriculados y retirados.\\n\\n¿Cuáles son los requisitos para solicitarlo?\\n    1. Presentar la solicitud\\n    2. Acreditar su condición de estudiante regular con antigüedad de estudios en la UNI no mayor de cuatro (4) años.\\n    3. Tener calificación de servicio social que sustente la necesidad de contar con el servicio.\\n    4. Tener las condiciones de salud física y mental, certificado por el Servicio Médico y Psicología.\\n    5. Acreditar una evaluación académica favorable (promedio ponderado acumulado aprobado) expedida por su Facultad.\\n\\n¿Cómo se solicita?:\\n    1. El estudiante envía la solicitud (modelo de solicitud en la sección Matrícula y Procedimientos de la pagina web de la Facultad de Ciencias) al correo mesadepartes_fc@uni.edu.pe\\n\\n¿Cómo se recibe la constancia?:\\n    1. La constancia se enviará al correo institucional del estudiante(uni.pe) en un plazo de 7 días hábiles. \\n\\nConsideraciones importantes\\n    1. La universidad Nacional de Ingeniería convoca semestralmente a cobertura de plazas de Residencia Estudiantil. En la convocatoria se fija el número de plazas disponibles y los plazos de solicitud de presentaciones y de las secuencias de la calificación, a cargo de la Comisión Evaluadora respectiva\\n    2. La postulación como usuario del servicio de Residencia Universitaria la efectúa el estudiante de forma individual ante OCBU (Oficina Central de Bienestar Universitaria) con los mismos requisitos y posibilidades de obtención de plazas que el resto de estudiantes de la UNI.\\n    Luego de recibida la solicitud, el jefe, o quien haga sus veces, de la Oficina Central de Bienestar Universitario, derivará dicho pedido a Servicio Social, Servicio Médico y Psicológico\\n    Luego de recibido los informes favorables de los servicios correspondientes (social, médico y Psicológico) se derivarán los expedientes completos a la comisión Evaluadora integrada.',\n",
       "    'relatedness': 0.38737685680389405}],\n",
       "  'contains_questions': True,\n",
       "  'reformulated_question': '¿Cuáles son los documentos y requisitos necesarios para la convalidación de prácticas pre profesionales, y existe algún formato específico que deba seguir para presentar esta solicitud?',\n",
       "  'num_history_tokens': None,\n",
       "  'num_prompt_tokens': None,\n",
       "  'num_output_tokens': None},\n",
       " {'role': 'assistant',\n",
       "  'content': 'Para la convalidación de prácticas pre profesionales, los estudiantes deben ponerse en contacto con el departamento de su Escuela Profesional correspondiente, ya que ellos proporcionarán la información específica sobre los documentos y requisitos necesarios. No se menciona un formato específico en la información disponible. \\n\\nTe recomiendo que envíes un correo a las siguientes direcciones según tu escuela profesional:\\n\\n- Física, Química o Ciencia de la Computación: escuelas_fc1@uni.edu.pe\\n- Matemáticas o Ingeniería Física: escuelas_fc2@uni.edu.pe\\n\\nEllos podrán guiarte sobre los requisitos exactos y cualquier formato que debas seguir. Si necesitas más ayuda, no dudes en preguntar.',\n",
       "  'context': None,\n",
       "  'recovered_texts': None,\n",
       "  'contains_questions': None,\n",
       "  'reformulated_question': None,\n",
       "  'num_history_tokens': 466,\n",
       "  'num_prompt_tokens': 2522,\n",
       "  'num_output_tokens': 167},\n",
       " {'role': 'user',\n",
       "  'content': 'Perfecto, voy a enviar un correo a la escuela. Gracias por la info. ¡Nos vemos!',\n",
       "  'context': None,\n",
       "  'recovered_texts': None,\n",
       "  'contains_questions': False,\n",
       "  'reformulated_question': None,\n",
       "  'num_history_tokens': None,\n",
       "  'num_prompt_tokens': None,\n",
       "  'num_output_tokens': None},\n",
       " {'role': 'assistant',\n",
       "  'content': '¡De nada! Me alegra haber podido ayudarte. Si tienes más preguntas en el futuro sobre trámites académicos o cualquier otro tema relacionado con la Facultad de Ciencias, no dudes en volver. ¡Mucho éxito con tu correo y tus prácticas pre profesionales! ¡Nos vemos!',\n",
       "  'context': None,\n",
       "  'recovered_texts': None,\n",
       "  'contains_questions': None,\n",
       "  'reformulated_question': None,\n",
       "  'num_history_tokens': 663,\n",
       "  'num_prompt_tokens': 89,\n",
       "  'num_output_tokens': 69}]"
      ]
     },
     "execution_count": 6,
     "metadata": {},
     "output_type": "execute_result"
    }
   ],
   "source": [
    "import json\n",
    "\n",
    "with open(\"./conversational_faq/openline-questions/conv_sim_derived_questions_faq_33_0_to_7.json\", \"r\") as f:\n",
    "    conv_data = json.load(f)\n",
    "\n",
    "conv_data[0]['messages']\n",
    "context = conv_data[0]['context']\n",
    "context = conv_data[0]['context']"
   ]
  },
  {
   "cell_type": "code",
   "execution_count": null,
   "id": "33088eae",
   "metadata": {},
   "outputs": [],
   "source": [
    "## Contextual Etiqueta\n",
    "new_tokens = [\"<|im_start|>context\", \"<|context|>\"]\n",
    "tokenizer.add_tokens(new_tokens)\n",
    "model.resize_token_embeddings(len(tokenizer))\n",
    "tokenizer.chat_template = \"\"\"{% for message in messages %}\n",
    "{% if message['role'] == 'system' %}\n",
    "<|im_start|>system\n",
    "{{ message['content'] }}<|im_end|>\n",
    "{% elif message['role'] == 'context' %}\n",
    "<|im_start|>context\n",
    "{{ message['content'] }}<|im_end|>\n",
    "{% elif message['role'] == 'user' %}\n",
    "<|im_start|>user\n",
    "{{ message['content'] }}<|im_end|>\n",
    "{% elif message['role'] == 'assistant' %}\n",
    "<|im_start|>assistant\n",
    "{{ message['content'] }}<|im_end|>\n",
    "{% endif %}\n",
    "{% endfor %}\"\"\""
   ]
  },
  {
   "cell_type": "code",
   "execution_count": null,
   "id": "51da1b5d",
   "metadata": {},
   "outputs": [
    {
     "name": "stdout",
     "output_type": "stream",
     "text": [
      "<|im_start|>system\n",
      "Eres Aerito, un asistente de IA especializado en temas de matrícula, procedimientos y trámites académicos de la Facultad de Ciencias de la Universidad Nacional de Ingeniería del Perú.\n",
      "Deberás responder a los mensajes asegurándote de cumplir con los siguientes criterios.\n",
      "    1. Proporcionar respuestas informativas, útiles y concisas a las preguntas del usuario basándote exclusivamente en la información relacionada con la Facultad de Ciencias que conoces.\n",
      "    2. Mantén un tono cordial, empático y servicial en sus interacciones.\n",
      "    3. Preferiblemente, evita derivar o sugerir el contacto con una oficina a menos que sea necesario. Si no hay otra oficina más idónea, la derivación se realizará hacia la Oficina de Estadística (AERA) de la Facultad de Ciencias.\n",
      "    4. En caso de no tener conocimiento sobre lo consultado, expresa con empatía que no tienes acceso a dicha información.<|im_end|>\n",
      "<|im_start|>user\n",
      "Si un alumno no cumplió con el pago del autoseguro, ¿qué procedimiento debe seguir para gestionar su matrícula rezagada?<|im_end|>\n",
      "<|im_start|>assistant\n",
      "Si un alumno no cumplió con el pago del autoseguro, no podrá realizar la matrícula rezagada. Para gestionar su matrícula rezagada, primero debe realizar el pago del autoseguro médico estudiantil. Luego, deberá seguir estos pasos:\n",
      "\n",
      "1. Generar la orden de pago por concepto de matrícula rezagada a través del portal INTRALU y realizar el pago correspondiente de S/ 26 en una agencia del BCP o mediante su banca móvil.\n",
      "2. Presentarse en la Oficina de Estadística (AERA) en las fechas establecidas en el calendario de actividades académicas, llevando el comprobante de pago.\n",
      "\n",
      "Recuerde que la matrícula rezagada se realiza solo si se cumplen todos los requisitos y en las fechas establecidas.<|im_end|>\n",
      "\n"
     ]
    }
   ],
   "source": [
    "from unsloth.chat_templates import get_chat_template\n",
    "from datasets import load_dataset\n",
    "\n",
    "prompt_role_system = \"\"\"Eres Aerito, un asistente de IA especializado en temas de matrícula, procedimientos y trámites académicos de la Facultad de Ciencias de la Universidad Nacional de Ingeniería del Perú.\n",
    "Deberás responder a los mensajes asegurándote de cumplir con los siguientes criterios.\n",
    "    1. Proporcionar respuestas informativas, útiles y concisas a las preguntas del usuario basándote exclusivamente en el contexto proporcionado.\n",
    "    2. Mantén un tono cordial, empático y servicial en sus interacciones.\n",
    "    3. Preferiblemente, evita derivar o sugerir el contacto con una oficina a menos que sea necesario. Si no hay otra oficina más idónea, la derivación se realizará hacia la Oficina de Estadística (AERA) de la Facultad de Ciencias.\n",
    "    4. En caso de no tener conocimiento sobre lo consultado, expresa con empatía que no tienes acceso a dicha información.\"\"\"\n",
    "\n",
    "tokenizer = get_chat_template(\n",
    "    tokenizer,\n",
    "    chat_template = \"qwen-2.5\"\n",
    ")\n",
    "\n",
    "def formatting_prompts_func(examples):\n",
    "    convos = examples[\"turns\"]\n",
    "    for convo in convos:\n",
    "        if convo[0][\"role\"] != \"system\":\n",
    "            convo.insert(0, {\n",
    "                \"role\": \"system\",\n",
    "                \"content\": prompt_role_system\n",
    "            })\n",
    "\n",
    "            convo.insert(0, {\n",
    "                \"role\": \"system\",\n",
    "                \"content\": prompt_role_system\n",
    "            })\n",
    "            \n",
    "    texts = [tokenizer.apply_chat_template(convo, tokenize=False, add_generation_prompt=False) for convo in convos]\n",
    "    return {\"text\": texts}\n",
    "\n",
    "dataset = load_dataset(\"json\", data_files = {\"train\":\"./conversational_faq/data/train_turns_dataset.json\", \"val\": \"./conversational_faq/data/val_turns_dataset.json\"})\n",
    "dataset = dataset.map(formatting_prompts_func, batched=True)\n",
    "print(dataset['train'][0]['text'])"
   ]
  },
  {
   "cell_type": "code",
   "execution_count": 39,
   "id": "7967ef15",
   "metadata": {},
   "outputs": [
    {
     "name": "stderr",
     "output_type": "stream",
     "text": [
      "Unsloth: Tokenizing [\"text\"]: 100%|██████████| 5821/5821 [00:07<00:00, 756.38 examples/s]\n"
     ]
    }
   ],
   "source": [
    "from unsloth import is_bf16_supported\n",
    "from trl import SFTTrainer\n",
    "from transformers import TrainingArguments, DataCollatorForSeq2Seq\n",
    "trainer = SFTTrainer(\n",
    "    model = model,\n",
    "    tokenizer = tokenizer,\n",
    "    train_dataset = dataset['train'],\n",
    "    eval_dataset = dataset['val'],\n",
    "    dataset_text_field = \"text\",\n",
    "    max_seq_length = max_seq_length,\n",
    "    data_collator = DataCollatorForSeq2Seq(tokenizer = tokenizer),\n",
    "    dataset_num_proc = 2,\n",
    "    packing = False, # Can make training 5x faster for short sequences.\n",
    "    args = TrainingArguments(\n",
    "        per_device_train_batch_size = 4,\n",
    "        gradient_accumulation_steps = 4,\n",
    "        warmup_steps=5,\n",
    "        num_train_epochs=2,\n",
    "        #max_steps=60,\n",
    "        learning_rate= 2e-4,\n",
    "        fp16= not is_bf16_supported(),\n",
    "        bf16= is_bf16_supported(),\n",
    "        logging_steps=1,\n",
    "        eval_strategy= \"epoch\",\n",
    "        save_strategy= \"epoch\",\n",
    "        optim = \"adamw_8bit\",\n",
    "        weight_decay = 0.01,\n",
    "        lr_scheduler_type = \"linear\",\n",
    "        seed = 3407,\n",
    "        output_dir = \"outputs\"\n",
    "    ),\n",
    ")\n",
    "\n"
   ]
  },
  {
   "cell_type": "code",
   "execution_count": 40,
   "id": "3df32b42",
   "metadata": {},
   "outputs": [
    {
     "name": "stderr",
     "output_type": "stream",
     "text": [
      "Map (num_proc=96): 100%|██████████| 5821/5821 [00:00<00:00, 7007.38 examples/s] \n",
      "Map (num_proc=96): 100%|██████████| 1919/1919 [00:00<00:00, 2732.28 examples/s]\n"
     ]
    }
   ],
   "source": [
    "from unsloth.chat_templates import train_on_responses_only\n",
    "trainer = train_on_responses_only(\n",
    "    trainer,\n",
    "    instruction_part= \"<|im_start|>user\\n\",\n",
    "    response_part= \"<|im_start|>assistant\\n\",\n",
    ")"
   ]
  },
  {
   "cell_type": "code",
   "execution_count": 41,
   "id": "0726108e",
   "metadata": {},
   "outputs": [
    {
     "name": "stdout",
     "output_type": "stream",
     "text": [
      "<|im_start|>system\n",
      "Eres Aerito, un asistente de IA especializado en temas de matrícula, procedimientos y trámites académicos de la Facultad de Ciencias de la Universidad Nacional de Ingeniería del Perú.\n",
      "Deberás responder a los mensajes asegurándote de cumplir con los siguientes criterios.\n",
      "    1. Proporcionar respuestas informativas, útiles y concisas a las preguntas del usuario basándote exclusivamente en la información relacionada con la Facultad de Ciencias que conoces.\n",
      "    2. Mantén un tono cordial, empático y servicial en sus interacciones.\n",
      "    3. Preferiblemente, evita derivar o sugerir el contacto con una oficina a menos que sea necesario. Si no hay otra oficina más idónea, la derivación se realizará hacia la Oficina de Estadística (AERA) de la Facultad de Ciencias.\n",
      "    4. En caso de no tener conocimiento sobre lo consultado, expresa con empatía que no tienes acceso a dicha información.<|im_end|>\n",
      "<|im_start|>user\n",
      "¿Qué métodos de pago pueden usar los estudiantes para su orden de pago de autoseguro?<|im_end|>\n",
      "<|im_start|>assistant\n",
      "Los estudiantes pueden realizar el pago de la orden de pago por concepto de autoseguro a través de dos métodos: en alguna sucursal del BCP o mediante la aplicación móvil del banco BCP. Se recomienda esperar al menos 10 minutos después de generar la orden de pago antes de proceder con el pago. Si necesitas más información, no dudes en preguntar.<|im_end|>\n",
      "<|im_start|>user\n",
      "¿Y qué pasa si no tengo cuenta en el BCP? ¿Hay otras opciones para pagar el autoseguro?<|im_end|>\n",
      "<|im_start|>assistant\n",
      "Lamentablemente, solo se menciona el pago del autoseguro a través de sucursales del BCP o mediante la aplicación móvil del mismo banco. No tengo acceso a información sobre otras opciones de pago disponibles. Te sugiero que contactes a la Oficina de Estadística de la Facultad de Ciencias para obtener más detalles sobre posibles alternativas. Su correo es estadistica_fc@uni.edu.pe y su horario de atención es de lunes a viernes de 8:00 a.m. a 4:00 p.m. Si necesitas más ayuda, no dudes en preguntar.<|im_end|>\n",
      "<|im_start|>user\n",
      "Entendido. Voy a contactar a la Oficina de Estadística para ver si tienen más opciones. ¿Sabes si hay algún plazo específico para hacer el pago del autoseguro?<|im_end|>\n",
      "<|im_start|>assistant\n",
      "Los estudiantes deben realizar el pago del autoseguro estudiantil antes de las fechas de matrícula, dentro del plazo máximo establecido en el calendario de actividades académicas correspondiente al periodo académico. Si no se cumple con este plazo, no se habilitará su matrícula regular y deberá gestionar la matrícula como rezagada, lo que puede implicar el riesgo de no alcanzar vacantes para los cursos deseados. Te recomiendo revisar el calendario de actividades académicas en la sección \"MATRÍCULA Y PROCEDIMIENTOS\" de la página web de la Facultad de Ciencias para obtener las fechas específicas. Si necesitas más ayuda, no dudes en preguntar.<|im_end|>\n",
      "\n"
     ]
    }
   ],
   "source": [
    "print(tokenizer.decode(trainer.train_dataset[5][\"input_ids\"]))"
   ]
  },
  {
   "cell_type": "code",
   "execution_count": 42,
   "id": "cb91b77d",
   "metadata": {},
   "outputs": [
    {
     "name": "stdout",
     "output_type": "stream",
     "text": [
      "                                                                                                                                                                                                                                                                                         Si un alumno no cumplió con el pago del autoseguro, no podrá realizar la matrícula rezagada. Para gestionar su matrícula rezagada, primero debe realizar el pago del autoseguro médico estudiantil. Luego, deberá seguir estos pasos:\n",
      "\n",
      "1. Generar la orden de pago por concepto de matrícula rezagada a través del portal INTRALU y realizar el pago correspondiente de S/ 26 en una agencia del BCP o mediante su banca móvil.\n",
      "2. Presentarse en la Oficina de Estadística (AERA) en las fechas establecidas en el calendario de actividades académicas, llevando el comprobante de pago.\n",
      "\n",
      "Recuerde que la matrícula rezagada se realiza solo si se cumplen todos los requisitos y en las fechas establecidas.<|im_end|>\n",
      "\n"
     ]
    }
   ],
   "source": [
    "space = tokenizer(\" \", add_special_tokens= False).input_ids[0]\n",
    "print(tokenizer.decode([space if x == -100 else x for x in trainer.train_dataset[0][\"labels\"]]))"
   ]
  },
  {
   "cell_type": "code",
   "execution_count": 43,
   "id": "9cf3a951",
   "metadata": {},
   "outputs": [
    {
     "name": "stdout",
     "output_type": "stream",
     "text": [
      "GPU = NVIDIA RTX 4500 Ada Generation. Max memory = 23.994 GB.\n",
      "1.77 GB of memory reserved.\n"
     ]
    }
   ],
   "source": [
    "# @title Show current memory stats\n",
    "gpu_stats = torch.cuda.get_device_properties(0)\n",
    "start_gpu_memory = round(torch.cuda.max_memory_reserved() / 1024 / 1024 / 1024, 3)\n",
    "max_memory = round(gpu_stats.total_memory / 1024 / 1024 / 1024, 3)\n",
    "print(f\"GPU = {gpu_stats.name}. Max memory = {max_memory} GB.\")\n",
    "print(f\"{start_gpu_memory} GB of memory reserved.\")"
   ]
  },
  {
   "cell_type": "code",
   "execution_count": null,
   "id": "46ed1bb7",
   "metadata": {},
   "outputs": [
    {
     "name": "stderr",
     "output_type": "stream",
     "text": [
      "==((====))==  Unsloth - 2x faster free finetuning | Num GPUs used = 1\n",
      "   \\\\   /|    Num examples = 5,821 | Num Epochs = 2 | Total steps = 728\n",
      "O^O/ \\_/ \\    Batch size per device = 4 | Gradient accumulation steps = 4\n",
      "\\        /    Data Parallel GPUs = 1 | Total batch size (4 x 4 x 1) = 16\n",
      " \"-____-\"     Trainable parameters = 35,192,832/500,000,000 (7.04% trained)\n"
     ]
    },
    {
     "data": {
      "text/html": [
       "\n",
       "    <div>\n",
       "      \n",
       "      <progress value='344' max='728' style='width:300px; height:20px; vertical-align: middle;'></progress>\n",
       "      [344/728 07:57 < 08:56, 0.72 it/s, Epoch 0.94/2]\n",
       "    </div>\n",
       "    <table border=\"1\" class=\"dataframe\">\n",
       "  <thead>\n",
       " <tr style=\"text-align: left;\">\n",
       "      <th>Epoch</th>\n",
       "      <th>Training Loss</th>\n",
       "      <th>Validation Loss</th>\n",
       "    </tr>\n",
       "  </thead>\n",
       "  <tbody>\n",
       "  </tbody>\n",
       "</table><p>"
      ],
      "text/plain": [
       "<IPython.core.display.HTML object>"
      ]
     },
     "metadata": {},
     "output_type": "display_data"
    }
   ],
   "source": [
    "trainer_stats = trainer.train()"
   ]
  },
  {
   "cell_type": "code",
   "execution_count": null,
   "id": "50b052bc",
   "metadata": {},
   "outputs": [
    {
     "name": "stderr",
     "output_type": "stream",
     "text": [
      "The following generation flags are not valid and may be ignored: ['temperature', 'min_p']. Set `TRANSFORMERS_VERBOSITY=info` for more details.\n"
     ]
    },
    {
     "name": "stdout",
     "output_type": "stream",
     "text": [
      "<|im_start|>system\n",
      "You are Qwen, created by Alibaba Cloud. You are a helpful assistant.<|im_end|>\n",
      "<|im_start|>user\n",
      "Continue the fibonacci sequence: 1, 1, 2, 3, 5, 8,<|im_end|>\n",
      "<|im_start|>assistant\n",
      "The Fibonacci sequence is a series of numbers in which each number is the sum of the two preceding ones. The sequence starts with 1 and 1, and each subsequent number is the sum of the two preceding ones. The sequence goes like this: 1, 1, 2, 3, 5\n"
     ]
    }
   ],
   "source": [
    "from unsloth.chat_templates import get_chat_template\n",
    "\n",
    "tokenizer = get_chat_template(\n",
    "    tokenizer,\n",
    "    chat_template = \"qwen-2.5\",\n",
    ")\n",
    "\n",
    "\n",
    "FastLanguageModel.for_inference(model)\n",
    "\n",
    "messages = [\n",
    "    {\"role\": \"user\", \"content\": \"como me matriculo este ciclo\"},\n",
    "]\n",
    "\n",
    "inputs = tokenizer.apply_chat_template(\n",
    "    messages,\n",
    "    tokenize = True,\n",
    "    add_generation_prompt = True,\n",
    "    return_tensors = \"pt\",\n",
    ").to(\"cuda\")\n",
    "\n",
    "outputs = model.generate(input_ids = inputs , max_new_tokens = 64, use_cache = True, temperature = 1.5, min_p = 0.1)\n",
    "print(tokenizer.batch_decode(outputs)[0])"
   ]
  }
 ],
 "metadata": {
  "kernelspec": {
   "display_name": "llm",
   "language": "python",
   "name": "python3"
  },
  "language_info": {
   "codemirror_mode": {
    "name": "ipython",
    "version": 3
   },
   "file_extension": ".py",
   "mimetype": "text/x-python",
   "name": "python",
   "nbconvert_exporter": "python",
   "pygments_lexer": "ipython3",
   "version": "3.11.13"
  }
 },
 "nbformat": 4,
 "nbformat_minor": 5
}
